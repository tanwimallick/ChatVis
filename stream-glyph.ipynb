{
 "cells": [
  {
   "cell_type": "code",
   "execution_count": 1,
   "id": "6908c3b5-596f-4bb4-8144-cc2851a201e6",
   "metadata": {},
   "outputs": [],
   "source": [
    "import subprocess\n",
    "import os\n",
    "from openai import OpenAI\n",
    "import re"
   ]
  },
  {
   "cell_type": "code",
   "execution_count": 2,
   "id": "6ca266dc-3fa7-43f7-82f8-44b7a9c6f619",
   "metadata": {},
   "outputs": [],
   "source": [
    "\n",
    "path_to_pvpython = \"/Applications/ParaView-5.12.0.app/Contents/bin:$PATH\"  # Replace with the actual path returned by `which pvpython`\n",
    "os.environ[\"PATH\"] += os.pathsep + path_to_pvpython\n"
   ]
  },
  {
   "cell_type": "code",
   "execution_count": 26,
   "id": "71c4c750-60a1-435c-814b-fab194beaa44",
   "metadata": {},
   "outputs": [],
   "source": [
    "client = OpenAI(\n",
    "    api_key=\"\" # provide you OpenAI API key here\n",
    ")"
   ]
  },
  {
   "cell_type": "code",
   "execution_count": 4,
   "id": "86cf5569-b7cb-4e0a-897e-0cdb5dfe971d",
   "metadata": {},
   "outputs": [],
   "source": [
    "def extract_python_code(text, name):\n",
    "    \"\"\"\n",
    "    Extracts and prints blocks of Python code from a given text that are delimited by\n",
    "    ```python and ```\n",
    "    \"\"\"\n",
    "    # Regular expression to find all occurrences of Python code blocks\n",
    "    code_blocks = re.findall(r\"```python(.*?)```\", text, re.DOTALL)\n",
    "\n",
    "    \n",
    "    for i, block in enumerate(code_blocks, start=1):\n",
    "        # Strip leading/trailing whitespace and maintain internal formatting\n",
    "        formatted_block = block.strip()\n",
    "        # Define file path for each code block\n",
    "        filename = \"/Users/tanwimallick/Documents/Paraview/generated_code/{}_{}.py\".format(name, i)\n",
    "\n",
    "        #filename = f\"/Users/tanwimallick/Documents/Paraview/generated_code/\" + name + \"_{i}.py\"\n",
    "        with open(filename, 'w') as file:\n",
    "            file.write(formatted_block)\n",
    "        print(f\"Code Block {i} saved to {filename}\")\n",
    "        return filename"
   ]
  },
  {
   "cell_type": "code",
   "execution_count": 5,
   "id": "26ac1aa8-aef0-49f3-b1b9-ae283e92a520",
   "metadata": {},
   "outputs": [],
   "source": [
    "def extract_error_messages(stderr_output):\n",
    "    # Split the stderr output into lines\n",
    "    lines = stderr_output.split('\\n')\n",
    "    \n",
    "    # Initialize a list to store error messages\n",
    "    error_messages = []\n",
    "\n",
    "    # Extract lines that contain error messages\n",
    "    for i, line in enumerate(lines):\n",
    "        if 'Traceback (most recent call last):' in line:\n",
    "            # Start of a new traceback, find the next line starting with 'File'\n",
    "            for j in range(i+1, len(lines)):\n",
    "                if lines[j].strip().startswith('File'):\n",
    "                    # Add lines until 'AttributeError' or other errors are encountered\n",
    "                    error_detail = lines[j].strip()\n",
    "                    k = j + 1\n",
    "                    while k < len(lines) and not lines[k].strip().startswith('File'):\n",
    "                        error_detail += '\\n' + lines[k].strip()\n",
    "                        k += 1\n",
    "                    error_messages.append(error_detail)\n",
    "                    break\n",
    "\n",
    "    return error_messages"
   ]
  },
  {
   "cell_type": "code",
   "execution_count": null,
   "id": "ec3360a6-7c6f-4848-bd2c-3ff35788f7fb",
   "metadata": {},
   "outputs": [],
   "source": []
  },
  {
   "cell_type": "code",
   "execution_count": 39,
   "id": "dd7d28c7-adaa-4b3d-bbf2-f8ca92efb1c3",
   "metadata": {},
   "outputs": [],
   "source": [
    "code_to_read = \"\"\"\n",
    "from paraview.simple import *\n",
    "\n",
    "# read the input data\n",
    "ml100vtk = LegacyVTKReader(FileNames=<path>)\n",
    "\"\"\"\n",
    "\n",
    "code_to_slice = \"\"\"\n",
    "from paraview.simple import *\n",
    "# create a new slice\n",
    "slice1 = Slice(registrationName='Slice1', Input=ml100vtk)\n",
    "slice1.SliceType = 'Plane'\n",
    "slice1.HyperTreeGridSlicer = 'Plane'\n",
    "slice1.SliceOffsetValues = [0.0]\n",
    "slice1.PointMergeMethod = 'Uniform Binning'\n",
    "\"\"\"\n",
    "\n",
    "code_to_contour = \"\"\"\n",
    "from paraview.simple import *\n",
    "\n",
    "# create a new contour\n",
    "contour1 = Contour(registrationName='Contour1', Input=ml100vtk)\n",
    "contour1.ContourBy = ['POINTS', 'var0']\n",
    "contour1.Isosurfaces = [0.5]\n",
    "contour1.PointMergeMethod = 'Uniform Binning'\n",
    "\"\"\"\n",
    "\n",
    "code_to_render_view = \"\"\"\n",
    "renderView = CreateView('RenderView')\n",
    "renderView.ViewSize = [1920, 1080]\n",
    "\"\"\"\n",
    "\n",
    "code_to_render_view_direction = \"\"\"\n",
    "# set render view direction\n",
    "renderView.ResetActiveCameraToPositiveX()\n",
    "renderView.ResetCamera()\n",
    "\"\"\"\n",
    "\n",
    "code_to_create_layout = \"\"\"\n",
    "# create new layout object\n",
    "layout = CreateLayout(name='Layout')\n",
    "layout.AssignView(0, renderView)\n",
    "\"\"\"\n",
    "\n",
    "code_to_contour1Display = \"\"\"\n",
    "# show data\n",
    "contour1Display = Show(contour1, renderView)\n",
    "contour1Display.ColorArrayName = ['POINTS', '']\n",
    "contour1Display.DiffuseColor = [1.0, 0.0, 0.0]\n",
    "\"\"\"\n",
    "\n",
    "code_to_isometric_view = \"\"\"\n",
    "# set render view direction\n",
    "renderView.ApplyIsometricView()\n",
    "renderView.ResetCamera()\n",
    "\"\"\"\n",
    "\n",
    "code_to_clip = \"\"\"\n",
    "# create a new clip filter\n",
    "clip = Clip(registrationName='Clip', Input=delaunay3D)\n",
    "clip.ClipType = 'Plane'\n",
    "clip.ClipType.Origin = [0.0, 0.0, 0.0]\n",
    "clip.ClipType.Normal = [1.0, 0.0, 0.0]\n",
    "\"\"\"\n",
    "\n",
    "code_to_save = \"\"\"\n",
    "# Save a screenshot of the render view\n",
    "SaveScreenshot('/Users/tanwimallick/Documents/Paraview/generated_code/points-surf-clip-screenshot.png',renderView, ImageResolution=[1920, 1080], OverrideColorPalette='WhiteBackground')\n",
    "\"\"\"\n",
    "\n",
    "code_to_stream_tacer = \"\"\"\n",
    "# create a new stream tacer\n",
    "streamTracer = StreamTracer(registrationName='StreamTracer1', Input=velocity, SeedType='Point Cloud')\n",
    "\"\"\"\n",
    "\n",
    "code_to_glyph = \"\"\"\n",
    "# create a new glyph\n",
    "glyph = Glyph(registrationName='Glyph1', Input=streamTracer, GlyphType='Cone')\n",
    "glyph.OrientationArray = ['POINTS', 'V']\n",
    "glyph.ScaleArray = ['POINTS', 'V']\n",
    "glyph.ScaleFactor = 0.05\n",
    "\"\"\"\n",
    "\n",
    "code_to_tube = \"\"\"\n",
    "# create a new tube\n",
    "tube = Tube(registrationName='Tube1', Input=streamTracer)\n",
    "tube.Radius = 0.075\n",
    "\"\"\"\n",
    "\n",
    "code_to_color_tube_glyphs_Temp_variable = \"\"\"\n",
    "# color tubes and glyphs by Temp variable\n",
    "ColorBy(tubeDisplay, ('POINTS', 'Temp'))\n",
    "ColorBy(glyphDisplay, ('POINTS', 'Temp'))\n",
    "tubeDisplay.RescaleTransferFunctionToDataRange(True)\n",
    "glyphDisplay.RescaleTransferFunctionToDataRange(True)\n",
    "\"\"\""
   ]
  },
  {
   "cell_type": "code",
   "execution_count": 12,
   "id": "33c47da5-04d1-49df-993f-d3a5ed845587",
   "metadata": {},
   "outputs": [],
   "source": [
    "prompt = f'''I would like to use ParaView to visualize a dataset.\n",
    "Please generate a ParaView Python script for the following operations.\n",
    "Read in the file named '/Users/tanwimallick/Documents/Paraview/generated_code/disk.ex2'.\n",
    "Trace streamlines of the V data array seeded from a default point cloud.\n",
    "Render the streamlines with tubes.\n",
    "Add cone glyphs to the streamlines.\n",
    "Color the streamlines and glyphs by the Temp data array.\n",
    "View the result in the +X direction.\n",
    "Save a screenshot of the result in the filename '/Users/tanwimallick/Documents/Paraview/generated_code/stream-glyph-screenshot.png'.\n",
    "The rendered view and saved screenshot should be 1920 x 1080 pixels.\n",
    "'''\n"
   ]
  },
  {
   "cell_type": "code",
   "execution_count": 40,
   "id": "fcf3454e-14a7-4ee4-ad1b-fb8815ae1956",
   "metadata": {},
   "outputs": [],
   "source": [
    "prompt =\"\"\"\n",
    "This script uses ParaView to visualize streamlines of the V data array from the disk.ex2 file.\n",
    "Operations include reading the file, tracing streamlines, rendering with tubes, adding cone glyphs,\n",
    "coloring by the Temp data array, and viewing from the +X direction.\n",
    "\n",
    "Requirements:\n",
    "- Read the file '/Users/tanwimallick/Documents/Paraview/generated_code/disk.ex2'.\n",
    "- Trace streamlines of the V data array seeded from a default point cloud.\n",
    "- Render the streamlines with tubes for better visibility.\n",
    "- Add cone glyphs to the streamlines to indicate direction.\n",
    "- Color both the streamlines and glyphs using the Temp data array.\n",
    "- Orient the view to look from the +X direction.\n",
    "- Save a screenshot of the view at 1920 x 1080 pixels resolution to '/Users/tanwimallick/Documents/Paraview/generated_code/stream-glyph-screenshot.png'.\n",
    "\"\"\"\n"
   ]
  },
  {
   "cell_type": "code",
   "execution_count": 47,
   "id": "4286d9d6-23a8-4fc8-b317-0fc3c7bdf8cd",
   "metadata": {},
   "outputs": [
    {
     "name": "stdout",
     "output_type": "stream",
     "text": [
      "Code Block 1 saved to /Users/tanwimallick/Documents/Paraview/generated_code/stream-glyph_1.py\n",
      "[]\n"
     ]
    }
   ],
   "source": [
    "chat_completion = client.chat.completions.create(\n",
    "    messages=[\n",
    "        {\"role\": \"system\", \"content\": f\"You are a code assistant. Read the user prompt line-by-line and process step by step. Some operations are provided as examples: \\n{code_to_read}\\n {code_to_slice}\\n {code_to_contour} \\n{code_to_tube} \\n{code_to_glyph} \\n{code_to_stream_tacer}. Use the examples \\n{code_to_render_view} \\n{code_to_render_view_direction}and \\n{code_to_contour1Display}\\n {code_to_color_tube_glyphs_Temp_variable} and change the render view as the user is specifying. Please use the example to write the correct code for the user. Please use this code \\n{code_to_create_layout}\\n in all generated code snippets. Add \\n{code_to_render_view_direction}\\n before the screenshot always. If required, please generate help documentation for the ParaView. Save the screenshot using \\n{code_to_save}. \"},\n",
    "        {\"role\": \"user\", \"content\": prompt},\n",
    "    ],\n",
    "    model=\"gpt-4\",\n",
    ")\n",
    "script = chat_completion.choices[0].message.content  \n",
    "file_path = extract_python_code(script, 'stream-glyph')\n",
    "\n",
    "# The command to run, including the pvpython interpreter and the script path\n",
    "command = [\"pvpython\", file_path]\n",
    "\n",
    "# Execute the command\n",
    "stderr_text = subprocess.run(command, capture_output=True, text=True).stderr\n",
    "\n",
    "errors = extract_error_messages(stderr_text)\n",
    "print(errors)"
   ]
  },
  {
   "cell_type": "code",
   "execution_count": 48,
   "id": "880ec1cc-dd06-4486-99aa-aff4c705d558",
   "metadata": {},
   "outputs": [
    {
     "name": "stdout",
     "output_type": "stream",
     "text": [
      "[]\n"
     ]
    }
   ],
   "source": [
    "command = [\"pvpython\", '/Users/tanwimallick/Documents/Paraview/generated_code/stream-glyph_1.py']\n",
    "\n",
    "# Execute the command\n",
    "stderr_text = subprocess.run(command, capture_output=True, text=True).stderr\n",
    "\n",
    "errors = extract_error_messages(stderr_text)\n",
    "print(errors)"
   ]
  },
  {
   "cell_type": "code",
   "execution_count": 25,
   "id": "0b6defdf-018e-4912-93af-61d0f9505aa9",
   "metadata": {},
   "outputs": [
    {
     "name": "stdout",
     "output_type": "stream",
     "text": [
      "Code Block 1 saved to /Users/tanwimallick/Documents/Paraview/generated_code/stream-glyph_debug_1.py\n",
      "Errors detected. Trying again...\n",
      "Code Block 1 saved to /Users/tanwimallick/Documents/Paraview/generated_code/stream-glyph_debug_1.py\n",
      "No more errors detected. Script executed successfully.\n"
     ]
    }
   ],
   "source": [
    "while errors:\n",
    "    # Communicate with the AI to get a fix\n",
    "    chat_completion = client.chat.completions.create(\n",
    "        messages=[\n",
    "                {\"role\": \"system\", \"content\": \"You are a great code assistant. Focus on the error line. Dont change the entire code\"},\n",
    "                {\"role\": \"user\", \"content\": f\"I encountered a Python error:\\n{errors}\\n Can you fix the code \\n{script}\\n  for the user \\n{prompt}\\n ?\"},\n",
    "        ],\n",
    "        model=\"gpt-4\",\n",
    "    )\n",
    "    \n",
    "    # Assuming the AI provides new Python code in the response\n",
    "    script = chat_completion.choices[0].message.content\n",
    "    file_path = extract_python_code(script, 'stream-glyph_debug')\n",
    "    \n",
    "    # Execute the new script with pvpython\n",
    "    command = [\"pvpython\", file_path]\n",
    "    result = subprocess.run(command, capture_output=True, text=True)\n",
    "    \n",
    "    # Extract errors from stderr, if any\n",
    "    errors = extract_error_messages(result.stderr)\n",
    "    if not errors:\n",
    "        print(\"No more errors detected. Script executed successfully.\")\n",
    "        break\n",
    "    else:\n",
    "        print(\"Errors detected. Trying again...\")"
   ]
  },
  {
   "cell_type": "code",
   "execution_count": null,
   "id": "ccde8585-ae92-478e-8ab4-f61546739015",
   "metadata": {},
   "outputs": [],
   "source": []
  }
 ],
 "metadata": {
  "kernelspec": {
   "display_name": "Python 3 (ipykernel)",
   "language": "python",
   "name": "python3"
  },
  "language_info": {
   "codemirror_mode": {
    "name": "ipython",
    "version": 3
   },
   "file_extension": ".py",
   "mimetype": "text/x-python",
   "name": "python",
   "nbconvert_exporter": "python",
   "pygments_lexer": "ipython3",
   "version": "3.12.1"
  }
 },
 "nbformat": 4,
 "nbformat_minor": 5
}
