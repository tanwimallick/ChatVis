{
 "cells": [
  {
   "cell_type": "code",
   "execution_count": 1,
   "id": "eda1c661-a615-4ee3-a7e9-c3e5ca695213",
   "metadata": {},
   "outputs": [],
   "source": [
    "import subprocess\n",
    "import os\n",
    "from openai import OpenAI\n",
    "import re\n",
    "import ollama"
   ]
  },
  {
   "cell_type": "code",
   "execution_count": 2,
   "id": "48e810a1-2cc1-42fc-ac90-991cb2db1208",
   "metadata": {},
   "outputs": [],
   "source": [
    "\n",
    "path_to_pvpython = \"/Applications/ParaView-5.12.0.app/Contents/bin:$PATH\"  # Replace with the actual path returned by `which pvpython`\n",
    "os.environ[\"PATH\"] += os.pathsep + path_to_pvpython\n"
   ]
  },
  {
   "cell_type": "code",
   "execution_count": 3,
   "id": "80f5b596-bc67-4522-bb25-cedd54693366",
   "metadata": {},
   "outputs": [],
   "source": [
    "client = OpenAI(\n",
    "    api_key=\"\" # provide you OpenAI API key here\n",
    ")"
   ]
  },
  {
   "cell_type": "code",
   "execution_count": 4,
   "id": "519b3552-aded-41f6-b543-9f464e03180e",
   "metadata": {},
   "outputs": [],
   "source": [
    "def extract_python_code(text, name):\n",
    "    \"\"\"\n",
    "    Extracts and prints blocks of Python code from a given text that are delimited by\n",
    "    ```python and ```\n",
    "    \"\"\"\n",
    "    # Regular expression to find all occurrences of Python code blocks\n",
    "    code_blocks = re.findall(r\"```python(.*?)```\", text, re.DOTALL)\n",
    "\n",
    "    \n",
    "    for i, block in enumerate(code_blocks, start=1):\n",
    "        # Strip leading/trailing whitespace and maintain internal formatting\n",
    "        formatted_block = block.strip()\n",
    "        # Define file path for each code block\n",
    "        filename = \"/Users/tanwimallick/Documents/Paraview/generated_code/{}_{}.py\".format(name, i)\n",
    "\n",
    "        #filename = f\"/Users/tanwimallick/Documents/Paraview/generated_code/\" + name + \"_{i}.py\"\n",
    "        with open(filename, 'w') as file:\n",
    "            file.write(formatted_block)\n",
    "        print(f\"Code Block {i} saved to {filename}\")\n",
    "        return filename\n",
    "        \n",
    "def extract_error_messages(stderr_output):\n",
    "    # Split the stderr output into lines\n",
    "    lines = stderr_output.split('\\n')\n",
    "    \n",
    "    # Initialize a list to store error messages\n",
    "    error_messages = []\n",
    "\n",
    "    # Extract lines that contain error messages\n",
    "    for i, line in enumerate(lines):\n",
    "        if 'Traceback (most recent call last):' in line:\n",
    "            # Start of a new traceback, find the next line starting with 'File'\n",
    "            for j in range(i+1, len(lines)):\n",
    "                if lines[j].strip().startswith('File'):\n",
    "                    # Add lines until 'AttributeError' or other errors are encountered\n",
    "                    error_detail = lines[j].strip()\n",
    "                    k = j + 1\n",
    "                    while k < len(lines) and not lines[k].strip().startswith('File'):\n",
    "                        error_detail += '\\n' + lines[k].strip()\n",
    "                        k += 1\n",
    "                    error_messages.append(error_detail)\n",
    "                    break\n",
    "\n",
    "    return error_messages"
   ]
  },
  {
   "cell_type": "code",
   "execution_count": 5,
   "id": "84c7eed2-e440-4485-8531-d3bd402d42ac",
   "metadata": {},
   "outputs": [],
   "source": [
    "code_to_read = \"\"\"\n",
    "from paraview.simple import *\n",
    "\n",
    "# read the input data\n",
    "ml100vtk = LegacyVTKReader(FileNames=<path>)\n",
    "\"\"\"\n",
    "\n",
    "code_to_slice = \"\"\"\n",
    "from paraview.simple import *\n",
    "# create a new slice\n",
    "slice1 = Slice(registrationName='Slice1', Input=ml100vtk)\n",
    "slice1.SliceType = 'Plane'\n",
    "slice1.HyperTreeGridSlicer = 'Plane'\n",
    "slice1.SliceOffsetValues = [0.0]\n",
    "slice1.PointMergeMethod = 'Uniform Binning'\n",
    "\"\"\"\n",
    "\n",
    "code_to_contour = \"\"\"\n",
    "from paraview.simple import *\n",
    "\n",
    "# create a new contour\n",
    "contour1 = Contour(registrationName='Contour1', Input=ml100vtk)\n",
    "contour1.ContourBy = ['POINTS', 'var0']\n",
    "contour1.Isosurfaces = [0.5]\n",
    "contour1.PointMergeMethod = 'Uniform Binning'\n",
    "\"\"\"\n",
    "\n",
    "code_to_clip = \"\"\"\n",
    "# create a new clip filter\n",
    "clip = Clip(registrationName='Clip', Input=delaunay3D)\n",
    "clip.ClipType = 'Plane'\n",
    "clip.ClipType.Origin = [0.0, 0.0, 0.0]\n",
    "clip.ClipType.Normal = [1.0, 0.0, 0.0]\n",
    "\"\"\"\n",
    "\n",
    "code_to_create_layout = \"\"\"\n",
    "# create new layout object\n",
    "layout = CreateLayout(name='Layout')\n",
    "layout.AssignView(0, renderView)\n",
    "\"\"\"\n",
    "\n",
    "code_to_contour1Display = \"\"\"\n",
    "# show data\n",
    "contour1Display = Show(contour1, renderView)\n",
    "contour1Display.ColorArrayName = ['POINTS', '']\n",
    "contour1Display.DiffuseColor = [1.0, 0.0, 0.0]\n",
    "\"\"\"\n",
    "\n",
    "code_to_render_view = \"\"\"\n",
    "renderView = CreateView('RenderView')\n",
    "renderView.ViewSize = [1920, 1080]\n",
    "\"\"\"\n",
    "\n",
    "code_to_render_view_direction = \"\"\"\n",
    "# set render view direction\n",
    "renderView.ResetActiveCameraToPositiveX()\n",
    "renderView.ResetCamera()\n",
    "\"\"\"\n",
    "\n",
    "code_to_isometric_view= \"\"\"\n",
    "# set render view direction\n",
    "renderView.ApplyIsometricView()\n",
    "renderView.ResetCamera()\n",
    "\"\"\"\n",
    "\n",
    "code_to_save = \"\"\"\n",
    "# Save a screenshot of the render view\n",
    "SaveScreenshot('/Users/tanwimallick/Documents/Paraview/generated_code/points-surf-clip-screenshot.png',renderView, ImageResolution=[1920, 1080], OverrideColorPalette='WhiteBackground')\n",
    "\"\"\""
   ]
  },
  {
   "cell_type": "code",
   "execution_count": 16,
   "id": "2f6b14ea-94e1-45be-9800-9b7121a07265",
   "metadata": {},
   "outputs": [],
   "source": [
    "exapmle_input = f'''I would like to use ParaView to visualize a dataset.\n",
    "Please generate a ParaView Python script for the following operations.\n",
    "Read in the file named '/Users/tanwimallick/Documents/Paraview/generated_code/disk.ex2'.\n",
    "Trace streamlines of the V data array seeded from a default point cloud.\n",
    "Render the streamlines with tubes.\n",
    "Add cone glyphs to the streamlines.\n",
    "Color the streamlines and glyphs by the Temp data array.\n",
    "View the result in the +X direction.\n",
    "Save a screenshot of the result in the filename '/Users/tanwimallick/Documents/Paraview/generated_code/stream-glyph-screenshot.png'.\n",
    "The rendered view and saved screenshot should be 1920 x 1080 pixels.\n",
    "'''\n",
    "\n",
    "exapmle_prompt = f'''\n",
    "This script uses ParaView to visualize streamlines of the V data array from the disk.ex2 file.\n",
    "Operations include reading the file, tracing streamlines, rendering with tubes, adding cone glyphs,\n",
    "coloring by the Temp data array, and viewing from the +X direction.\n",
    "\n",
    "Requirements:\n",
    "- Read the file '/Users/tanwimallick/Documents/Paraview/generated_code/disk.ex2'.\n",
    "- Trace streamlines of the V data array seeded from a default point cloud.\n",
    "- Render the streamlines with tubes for better visibility.\n",
    "- Add cone glyphs to the streamlines to indicate direction.\n",
    "- Color both the streamlines and glyphs using the Temp data array.\n",
    "- Orient the view to look from the +X direction.\n",
    "- Save a screenshot of the view at 1920 x 1080 pixels resolution to '/Users/tanwimallick/Documents/Paraview/generated_code/stream-glyph-screenshot.png'.\n",
    "'''"
   ]
  },
  {
   "cell_type": "code",
   "execution_count": 17,
   "id": "4dfaad35-7330-4d56-8cdf-2e2e75c09d96",
   "metadata": {},
   "outputs": [],
   "source": [
    "user_input = f'''Please generate a ParaView Python script for the following operations.\n",
    "Read in the file named '/Users/tanwimallick/Documents/Paraview/generated_code/ml-100.vtk'.\n",
    "Slice the volume in a plane parallel to the y-z plane at x=0.\n",
    "Take a contour through the slice at the value 0.5.\n",
    "Color the contour red.\n",
    "Rotate the view to look at the +x direction.\n",
    "Save a screenshot of the result in the filename '/Users/tanwimallick/Documents/Paraview/generated_code/ml-slice-iso-screenshot.png'.\n",
    "The rendered view and saved screenshot should be 1920 x 1080 pixels.'''"
   ]
  },
  {
   "cell_type": "code",
   "execution_count": 21,
   "id": "a5bf973a-3c6a-44ca-b272-ab553a017451",
   "metadata": {},
   "outputs": [],
   "source": [
    "chat_completion = client.chat.completions.create(\n",
    "    messages=[\n",
    "        {\"role\": \"system\", \"content\": f\"You are a prompt generator. Do not provide any other text than the prompt \"},\n",
    "        {\"role\": \"user\", \"content\": f\"Generate the most effective prompt for the user input \\n{user_input}\\n. Here is an  example of \\n{exapmle_input}\\n and generated prompt \\n{exapmle_prompt} \\n. \"},\n",
    "    ],\n",
    "    model=\"gpt-4-turbo\",\n",
    ")"
   ]
  },
  {
   "cell_type": "code",
   "execution_count": 22,
   "id": "48077b1c-2f28-4ecb-af93-1f9f578cbe66",
   "metadata": {},
   "outputs": [],
   "source": [
    "prompt = chat_completion.choices[0].message.content "
   ]
  },
  {
   "cell_type": "code",
   "execution_count": 23,
   "id": "5f819129-43a6-4c37-9445-8be5513d87f1",
   "metadata": {},
   "outputs": [
    {
     "name": "stdout",
     "output_type": "stream",
     "text": [
      "Generate a Python script using ParaView for performing visualization tasks based on the provided steps. The instructions are:\n",
      "\n",
      "- Load the VTK file '/Users/tanwimallick/Documents/Paraview/generated_code/ml-100.vtk'\n",
      "- Slice the dataset in a plane parallel to the y-z plane at x=0\n",
      "- Draw a contour into the slice at the 0.5 value\n",
      "- Paint this contour red in color\n",
      "- Rotate the visualized data to look from the +x direction\n",
      "- Save a screenshot of the final output in 1920 x 1080 resolution. Name the file as '/Users/tanwimallick/Documents/Paraview/generated_code/ml-slice-iso-screenshot.png'.\n"
     ]
    }
   ],
   "source": [
    "print(prompt)"
   ]
  },
  {
   "cell_type": "code",
   "execution_count": 26,
   "id": "c49d7508-75f3-4ab6-9a4b-0b1326753517",
   "metadata": {},
   "outputs": [
    {
     "name": "stdout",
     "output_type": "stream",
     "text": [
      "Code Block 1 saved to /Users/tanwimallick/Documents/Paraview/generated_code/ml-slice-iso_1.py\n",
      "[]\n"
     ]
    }
   ],
   "source": [
    "chat_completion = client.chat.completions.create(\n",
    "    messages=[\n",
    "        {\"role\": \"system\", \"content\": f\"You are a code assistant. Read the user prompt line-by-line and process step by step. Some operations are provided as examples: \\n{code_to_read}\\n {code_to_slice}\\n {code_to_contour} \\n {code_to_clip}. Use the examples \\n{code_to_render_view} \\n {code_to_render_view_direction} \\n {code_to_isometric_view} and \\n{code_to_contour1Display}\\n and change the render view as the user is specifying. Please use the example to write the correct code for the user. Please use this code \\n{code_to_create_layout}\\n in all generated code snippets. Do not use clip1.InsideOut. Save the screenshot using \\n{code_to_save}.\"},\n",
    "        {\"role\": \"user\", \"content\": prompt},\n",
    "    ],\n",
    "    model=\"gpt-4o\" #gpt-4o\",\n",
    ")\n",
    "script = chat_completion.choices[0].message.content  \n",
    "file_path = extract_python_code(script, 'ml-slice-iso')\n",
    "\n",
    "# The command to run, including the pvpython interpreter and the script path\n",
    "command = [\"pvpython\", file_path]\n",
    "\n",
    "# Execute the command\n",
    "stderr_text = subprocess.run(command, capture_output=True, text=True).stderr\n",
    "\n",
    "errors = extract_error_messages(stderr_text)\n",
    "print(errors)"
   ]
  },
  {
   "cell_type": "code",
   "execution_count": 28,
   "id": "1ac1c54f-c139-42b1-9ae3-100e6abba4e8",
   "metadata": {},
   "outputs": [
    {
     "name": "stdout",
     "output_type": "stream",
     "text": [
      "[]\n"
     ]
    }
   ],
   "source": [
    "# The command to run, including the pvpython interpreter and the script path\n",
    "command = [\"pvpython\", file_path]\n",
    "\n",
    "# Execute the command\n",
    "stderr_text = subprocess.run(command, capture_output=True, text=True).stderr\n",
    "\n",
    "errors = extract_error_messages(stderr_text)\n",
    "print(errors)"
   ]
  },
  {
   "cell_type": "code",
   "execution_count": null,
   "id": "89889d88-7113-4c89-b71e-ec7e46318d75",
   "metadata": {},
   "outputs": [],
   "source": []
  }
 ],
 "metadata": {
  "kernelspec": {
   "display_name": "Python 3 (ipykernel)",
   "language": "python",
   "name": "python3"
  },
  "language_info": {
   "codemirror_mode": {
    "name": "ipython",
    "version": 3
   },
   "file_extension": ".py",
   "mimetype": "text/x-python",
   "name": "python",
   "nbconvert_exporter": "python",
   "pygments_lexer": "ipython3",
   "version": "3.12.1"
  }
 },
 "nbformat": 4,
 "nbformat_minor": 5
}
